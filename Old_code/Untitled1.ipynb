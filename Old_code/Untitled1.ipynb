{
 "cells": [
  {
   "cell_type": "code",
   "execution_count": 1,
   "id": "c8fa9f24-ed92-419b-a32e-e15446eb710b",
   "metadata": {},
   "outputs": [],
   "source": [
    "from os import listdir\n",
    "import zipfile\n",
    "from tqdm import tqdm\n",
    "import numpy as np\n",
    "import pickle\n",
    "import matplotlib.pyplot as plt\n",
    "from IPython.display import display\n",
    "import seaborn as sns"
   ]
  },
  {
   "cell_type": "code",
   "execution_count": 2,
   "id": "68e92311-01a1-4afe-a927-399239b5ea48",
   "metadata": {},
   "outputs": [],
   "source": [
    "def Get_Mean_and_Variance(URL,Task):\n",
    "    Files=listdir(URL+Task)[:20]\n",
    "    print('Calculate Mean')\n",
    "    mean={}\n",
    "    for ac_file in tqdm(Files):\n",
    "        with open(URL+Task+'/'+ac_file, 'rb') as f:  \n",
    "            loaded_data = pickle.load(f)\n",
    "        for ak1 in loaded_data:\n",
    "            if ak1 not in mean:\n",
    "                mean[ak1]={}\n",
    "            for ak2 in loaded_data[ak1]:\n",
    "                if ak2 not in mean[ak1]:\n",
    "                    mean[ak1][ak2]= [None]*len(loaded_data[ak1][ak2])\n",
    "                for p_ak3,ak3 in enumerate(loaded_data[ak1][ak2]):\n",
    "                    processing_data=np.array(ak3)\n",
    "                    if len(processing_data.shape)==3:\n",
    "                        if processing_data.shape[0]!=1:\n",
    "                            print('error 1')\n",
    "                            exit()\n",
    "                        else:\n",
    "                            processing_data=processing_data[0]\n",
    "                    elif len(processing_data.shape)>3:\n",
    "                            print('error 2')\n",
    "                            exit()\n",
    "                                                \n",
    "                    #print(ak1)\n",
    "                    #print(processing_data.shape)\n",
    "                    #print(np.mean(processing_data, axis=0).shape)\n",
    "                    processing_data=np.abs(processing_data)\n",
    "                    processing_data=np.mean(processing_data, axis=0)\n",
    "\n",
    "                    if mean[ak1][ak2][p_ak3] is None:\n",
    "                        mean[ak1][ak2][p_ak3]=np.zeros((processing_data.shape[0],))\n",
    "                    mean[ak1][ak2][p_ak3]=mean[ak1][ak2][p_ak3]+processing_data\n",
    "    for ak1 in mean:\n",
    "        for ak2 in mean[ak1]:\n",
    "            for p_ak3,ak3 in enumerate(mean[ak1][ak2]):\n",
    "                mean[ak1][ak2][p_ak3]=mean[ak1][ak2][p_ak3]/len(Files)\n",
    "\n",
    "    print()\n",
    "    print('Calculate Variance')\n",
    "    variance={}\n",
    "    for ac_file in tqdm(Files):\n",
    "        with open(URL+Task+'/'+ac_file, 'rb') as f: \n",
    "            loaded_data = pickle.load(f)\n",
    "        for ak1 in loaded_data:\n",
    "            if ak1 not in variance:\n",
    "                variance[ak1]={}\n",
    "            for ak2 in loaded_data[ak1]:\n",
    "                if ak2 not in variance[ak1]:\n",
    "                    variance[ak1][ak2]= [None]*len(loaded_data[ak1][ak2])\n",
    "                for p_ak3,ak3 in enumerate(loaded_data[ak1][ak2]):\n",
    "                    processing_data=np.array(ak3)\n",
    "\n",
    "                    if len(processing_data.shape)==3:\n",
    "                        processing_data=processing_data[0]\n",
    "\n",
    "                    processing_data=np.abs(processing_data)\n",
    "                    processing_data=np.mean(processing_data, axis=0)\n",
    "                    \n",
    "                    if variance[ak1][ak2][p_ak3] is None:\n",
    "                        variance[ak1][ak2][p_ak3]=np.zeros((processing_data.shape[0],))\n",
    "                    variance[ak1][ak2][p_ak3]=variance[ak1][ak2][p_ak3]+((mean[ak1][ak2][p_ak3]-processing_data)**2)\n",
    "    for ak1 in variance:\n",
    "        for ak2 in variance[ak1]:\n",
    "            for p_ak3,ak3 in enumerate(variance[ak1][ak2]):\n",
    "                variance[ak1][ak2][p_ak3]=variance[ak1][ak2][p_ak3]/len(Files)\n",
    "\n",
    "    \n",
    "    return mean,variance"
   ]
  },
  {
   "cell_type": "code",
   "execution_count": 3,
   "id": "efe5f54a-612c-4632-a792-a89862021c85",
   "metadata": {},
   "outputs": [
    {
     "name": "stdout",
     "output_type": "stream",
     "text": [
      "Calculate Mean\n"
     ]
    },
    {
     "name": "stderr",
     "output_type": "stream",
     "text": [
      "100%|██████████████████████████████████████████████████████| 20/20 [01:36<00:00,  4.84s/it]\n"
     ]
    },
    {
     "name": "stdout",
     "output_type": "stream",
     "text": [
      "\n",
      "Calculate Variance\n"
     ]
    },
    {
     "name": "stderr",
     "output_type": "stream",
     "text": [
      "100%|██████████████████████████████████████████████████████| 20/20 [00:52<00:00,  2.63s/it]\n"
     ]
    }
   ],
   "source": [
    "meanReg,varianceReg=Get_Mean_and_Variance('./Raw_Gradients/','0')"
   ]
  },
  {
   "cell_type": "code",
   "execution_count": 4,
   "id": "565476f7-7932-482c-8a88-280cc99df4c1",
   "metadata": {},
   "outputs": [
    {
     "name": "stdout",
     "output_type": "stream",
     "text": [
      "Calculate Mean\n"
     ]
    },
    {
     "name": "stderr",
     "output_type": "stream",
     "text": [
      "100%|██████████████████████████████████████████████████████| 20/20 [02:47<00:00,  8.38s/it]\n"
     ]
    },
    {
     "name": "stdout",
     "output_type": "stream",
     "text": [
      "\n",
      "Calculate Variance\n"
     ]
    },
    {
     "name": "stderr",
     "output_type": "stream",
     "text": [
      "100%|██████████████████████████████████████████████████████| 20/20 [00:48<00:00,  2.43s/it]\n"
     ]
    }
   ],
   "source": [
    "meanClass,varianceClass=Get_Mean_and_Variance('./Raw_Gradients/','1')"
   ]
  },
  {
   "cell_type": "code",
   "execution_count": 5,
   "id": "58fbf102-bf04-43f0-8c5e-e80090cb2d51",
   "metadata": {},
   "outputs": [],
   "source": [
    "#make heat maps\n",
    "\n",
    "for ak1 in meanReg:\n",
    "        heatmapval=[None]*len(meanReg[ak1][0])\n",
    "        for ak2 in meanReg[ak1]:\n",
    "            for p_ak3,ak3 in enumerate(meanReg[ak1][ak2]):\n",
    "                if heatmapval[p_ak3] is None:\n",
    "                    heatmapval[p_ak3]=[]\n",
    "                dev_from_0_Reg=meanReg[ak1][ak2][p_ak3]/((varianceReg[ak1][ak2][p_ak3]+varianceClass[ak1][ak2][p_ak3])/2)\n",
    "                dev_from_0_Class=meanClass[ak1][ak2][p_ak3]/((varianceReg[ak1][ak2][p_ak3]+varianceClass[ak1][ak2][p_ak3])/2)\n",
    "                heatmapval[p_ak3].append(dev_from_0_Reg-dev_from_0_Class)\n",
    "        for p_ak2,ak2 in enumerate(heatmapval):\n",
    "            ak2=np.array(ak2)\n",
    "            #print()\n",
    "            #print(ak1,p_ak2)\n",
    "            #print('*'*100)\n",
    "            fig = plt.gcf()  # Get the current figure\n",
    "            fig.set_size_inches(18, 8)  # Set the size in inches\n",
    "            sns.heatmap(ak2,cmap='icefire', center=0)\n",
    "            plt.savefig('./Heatmaps/Heatmap_'+ak1+'_'+str(p_ak2)+'.png',bbox_inches='tight')\n",
    "            plt.close()\n",
    "\n"
   ]
  },
  {
   "cell_type": "code",
   "execution_count": null,
   "id": "e0010f72-f34a-4f6d-917a-29c6323fccc2",
   "metadata": {},
   "outputs": [],
   "source": []
  }
 ],
 "metadata": {
  "kernelspec": {
   "display_name": "Python 3 (ipykernel)",
   "language": "python",
   "name": "python3"
  },
  "language_info": {
   "codemirror_mode": {
    "name": "ipython",
    "version": 3
   },
   "file_extension": ".py",
   "mimetype": "text/x-python",
   "name": "python",
   "nbconvert_exporter": "python",
   "pygments_lexer": "ipython3",
   "version": "3.12.2"
  }
 },
 "nbformat": 4,
 "nbformat_minor": 5
}
