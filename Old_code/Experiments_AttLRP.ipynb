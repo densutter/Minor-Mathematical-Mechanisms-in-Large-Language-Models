{
 "cells": [
  {
   "cell_type": "code",
   "execution_count": null,
   "id": "63b1310e-82d5-4cb7-b18a-a6e6dffef139",
   "metadata": {},
   "outputs": [
    {
     "data": {
      "application/vnd.jupyter.widget-view+json": {
       "model_id": "3c3b4fa787814b818de5fa1dd92b2b6b",
       "version_major": 2,
       "version_minor": 0
      },
      "text/plain": [
       "config.json:   0%|          | 0.00/608 [00:00<?, ?B/s]"
      ]
     },
     "metadata": {},
     "output_type": "display_data"
    },
    {
     "data": {
      "application/vnd.jupyter.widget-view+json": {
       "model_id": "a0d121cfe76943b797a81ca03113f65a",
       "version_major": 2,
       "version_minor": 0
      },
      "text/plain": [
       "model.safetensors:   0%|          | 0.00/2.20G [00:00<?, ?B/s]"
      ]
     },
     "metadata": {},
     "output_type": "display_data"
    }
   ],
   "source": [
    "from lxt.models.llama import LlamaForCausalLM, attnlrp\n",
    "import torch\n",
    "from transformers import AutoModelForCausalLM, AutoTokenizer\n",
    "from lxt.models.llama import LlamaForCausalLM, attnlrp\n",
    "\n",
    "# load model\n",
    "model_id = \"TinyLlama/TinyLlama-1.1B-Chat-v1.0\"\n",
    "model = AutoModelForCausalLM.from_pretrained(model_id,device_map=\"cpu\")\n",
    "\n",
    "\n",
    "# apply LXT to the model\n",
    "lxt_model = attnlrp.register(model)\n",
    "\n",
    "# (optionally enable gradient checkpointing)\n",
    "lxt_model.gradient_checkpointing_enable()"
   ]
  },
  {
   "cell_type": "code",
   "execution_count": null,
   "id": "e4993e90-c5b1-4c5a-9813-21ee8ac3a01e",
   "metadata": {},
   "outputs": [],
   "source": [
    "embeddings=None\n",
    "def hook_fn(module, input, output):\n",
    "    global embeddings\n",
    "    output.requires_grad_(True)\n",
    "    output.retain_grad() \n",
    "    embeddings=output"
   ]
  },
  {
   "cell_type": "code",
   "execution_count": null,
   "id": "c13d036d-d842-4e83-9fb1-3bcb93ce64cf",
   "metadata": {},
   "outputs": [],
   "source": [
    "hook = lxt_model.model.embed_tokens.register_forward_hook(hook_fn)"
   ]
  },
  {
   "cell_type": "code",
   "execution_count": null,
   "id": "ec2b0e4b-407d-4fc1-942c-52b414859919",
   "metadata": {},
   "outputs": [],
   "source": [
    "tokenizer = AutoTokenizer.from_pretrained(model_id)\n",
    "prompt = \"\"\"\\\n",
    "Context: Mount Everest attracts many climbers, including highly experienced mountaineers. There are two main climbing routes, one approaching the summit from the southeast in Nepal (known as the standard route) and the other from the north in Tibet. While not posing substantial technical climbing challenges on the standard route, Everest presents dangers such as altitude sickness, weather, and wind, as well as hazards from avalanches and the Khumbu Icefall. As of November 2022, 310 people have died on Everest. Over 200 bodies remain on the mountain and have not been removed due to the dangerous conditions. The first recorded efforts to reach Everest's summit were made by British mountaineers. As Nepal did not allow foreigners to enter the country at the time, the British made several attempts on the north ridge route from the Tibetan side. After the first reconnaissance expedition by the British in 1921 reached 7,000 m (22,970 ft) on the North Col, the 1922 expedition pushed the north ridge route up to 8,320 m (27,300 ft), marking the first time a human had climbed above 8,000 m (26,247 ft). The 1924 expedition resulted in one of the greatest mysteries on Everest to this day: George Mallory and Andrew Irvine made a final summit attempt on 8 June but never returned, sparking debate as to whether they were the first to reach the top. Tenzing Norgay and Edmund Hillary made the first documented ascent of Everest in 1953, using the southeast ridge route. Norgay had reached 8,595 m (28,199 ft) the previous year as a member of the 1952 Swiss expedition. The Chinese mountaineering team of Wang Fuzhou, Gonpo, and Qu Yinhua made the first reported ascent of the peak from the north ridge on 25 May 1960. \\\n",
    "Question: How high did they climb in 1922? According to the text, the 1922 expedition reached 8,\"\"\"\n",
    "\n",
    "input_ids = tokenizer(prompt, return_tensors=\"pt\")"
   ]
  },
  {
   "cell_type": "code",
   "execution_count": null,
   "id": "a14ee3a5-1222-499a-8a27-c604f15ca98c",
   "metadata": {},
   "outputs": [],
   "source": [
    "embeddings"
   ]
  },
  {
   "cell_type": "code",
   "execution_count": null,
   "id": "ab37f39b-0824-416d-ae16-498f70df07bd",
   "metadata": {},
   "outputs": [],
   "source": [
    "output_logits = lxt_model(**input_ids)"
   ]
  },
  {
   "cell_type": "code",
   "execution_count": null,
   "id": "afe6c82a-c94d-4131-b748-5083ecb2b6fd",
   "metadata": {},
   "outputs": [],
   "source": [
    "embeddings"
   ]
  },
  {
   "cell_type": "code",
   "execution_count": null,
   "id": "5fd847e9-6bcd-44f8-b64b-dab65dd89ad2",
   "metadata": {
    "scrolled": true
   },
   "outputs": [],
   "source": [
    "\n",
    "\n",
    "# select token to explain\n",
    "select_class_logit = output_logits.logits[0, -1, :].max()\n",
    "\n",
    "# run backward\n",
    "select_class_logit.backward(select_class_logit)\n",
    "\n",
    "# obtain relevances by summing over embedding dimension i.e. keeping sequence dimension\n",
    "relevance = embeddings.grad.float().sum(-1)"
   ]
  },
  {
   "cell_type": "code",
   "execution_count": null,
   "id": "65eeaf4a-edc5-43c9-9552-777e21535074",
   "metadata": {},
   "outputs": [],
   "source": []
  },
  {
   "cell_type": "code",
   "execution_count": null,
   "id": "530d0064-fb07-4a6e-8854-6ae302c545f7",
   "metadata": {},
   "outputs": [],
   "source": [
    "from lxt.utils import pdf_heatmap, clean_tokens\n",
    "\n",
    "# convert token ids to strings\n",
    "tokens = tokenizer.convert_ids_to_tokens(input_ids.input_ids[0])\n",
    "\n",
    "# removes the '_' character of tokens\n",
    "tokens = clean_tokens( [token.replace('Ġ', '▁') for token in tokens])\n",
    "\n",
    "# normalize relevance between [-1, 1] for plotting\n",
    "relevance = relevance[0]\n",
    "relevance = relevance / relevance.abs().max()\n",
    "\n",
    "# generate PDF file\n",
    "pdf_heatmap(tokens, relevance, path='heatmap.pdf', backend='xelatex')"
   ]
  },
  {
   "cell_type": "code",
   "execution_count": null,
   "id": "0983495b-d1ab-4b1d-884d-8c1c493d0752",
   "metadata": {},
   "outputs": [],
   "source": [
    "relevance"
   ]
  },
  {
   "cell_type": "code",
   "execution_count": null,
   "id": "dadb3c7b-f401-42cf-aba1-aa692fc26980",
   "metadata": {},
   "outputs": [],
   "source": []
  }
 ],
 "metadata": {
  "kernelspec": {
   "display_name": "Python 3 (ipykernel)",
   "language": "python",
   "name": "python3"
  },
  "language_info": {
   "codemirror_mode": {
    "name": "ipython",
    "version": 3
   },
   "file_extension": ".py",
   "mimetype": "text/x-python",
   "name": "python",
   "nbconvert_exporter": "python",
   "pygments_lexer": "ipython3",
   "version": "3.12.2"
  }
 },
 "nbformat": 4,
 "nbformat_minor": 5
}
